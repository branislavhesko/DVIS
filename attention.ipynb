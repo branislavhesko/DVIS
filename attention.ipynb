{
 "cells": [
  {
   "cell_type": "code",
   "execution_count": 1,
   "source": [
    "import torch.nn as nn\n",
    "import torch\n",
    "import einops\n",
    "from math import sqrt"
   ],
   "outputs": [],
   "metadata": {}
  },
  {
   "cell_type": "code",
   "execution_count": null,
   "source": [
    "class MultiHeadAttention(torch.nn.Module):\n",
    "    def __init__(self, embed_size, num_heads, attention_store=None):\n",
    "        super().__init__()\n",
    "        self.queries_projection = nn.Linear(embed_size, embed_size)\n",
    "        self.values_projection = nn.Linear(embed_size, embed_size)\n",
    "        self.keys_projection = nn.Linear(embed_size, embed_size)\n",
    "        self.final_projection = nn.Linear(embed_size, embed_size)\n",
    "        self.embed_size = embed_size\n",
    "        self.num_heads = num_heads\n",
    "        self.attention_store = attention_store\n",
    "\n",
    "    def forward(self, x):\n",
    "        assert len(x.shape) == 3\n",
    "        keys = self.keys_projection(x)\n",
    "        values = self.values_projection(x)\n",
    "        queries = self.queries_projection(x)\n",
    "        keys = einops.rearrange(keys, \"b n (h e) -> b n h e\", h=self.num_heads)\n",
    "        queries = einops.rearrange(queries, \"b n (h e) -> b n h e\", h=self.num_heads)\n",
    "        values = einops.rearrange(values, \"b n (h e) -> b n h e\", h=self.num_heads)\n",
    "        energy_term = torch.einsum(\"bqhe, bkhe -> bqhk\", queries, keys)\n",
    "        print(energy_term.shape)\n",
    "        divider = sqrt(self.embed_size)\n",
    "        mh_out = torch.softmax(energy_term, -1)\n",
    "        if self.attention_store is not None:\n",
    "            self.attention_store.append(mh_out.detach().cpu())\n",
    "        out = torch.einsum('bihv, bvhd -> bihd ', mh_out / divider, values)\n",
    "        out = einops.rearrange(out, \"b n h e -> b n (h e)\")\n",
    "        return self.final_projection(out)\n",
    "    \n",
    "x = torch.rand(4, 197, 768)\n",
    "MultiHeadAttention(768, 8)(x).shape"
   ],
   "outputs": [],
   "metadata": {}
  },
  {
   "cell_type": "code",
   "execution_count": 2,
   "source": [
    "import torch.nn.functional as F\n",
    "\n",
    "class MultiHeadXCITAttention(torch.nn.Module):\n",
    "    def __init__(self, embed_size, num_heads, attention_store=None):\n",
    "        super().__init__()\n",
    "        self.queries_projection = nn.Linear(embed_size, embed_size)\n",
    "        self.values_projection = nn.Linear(embed_size, embed_size)\n",
    "        self.keys_projection = nn.Linear(embed_size, embed_size)\n",
    "        self.final_projection = nn.Linear(embed_size, embed_size)\n",
    "        self.embed_size = embed_size\n",
    "        self.num_heads = num_heads\n",
    "        self.attention_store = attention_store\n",
    "        self.tau = torch.nn.Parameter(torch.ones(1))\n",
    "\n",
    "    def forward(self, x):\n",
    "        assert len(x.shape) == 3\n",
    "        keys = self.keys_projection(x)\n",
    "        values = self.values_projection(x)\n",
    "        queries = self.queries_projection(x)\n",
    "        keys = einops.rearrange(keys, \"b n (h e) -> b n h e\", h=self.num_heads)\n",
    "        queries = einops.rearrange(queries, \"b n (h e) -> b n h e\", h=self.num_heads)\n",
    "        values = einops.rearrange(values, \"b n (h e) -> b n h e\", h=self.num_heads)\n",
    "        keys = F.normalize(keys, p=2, dim=1)\n",
    "        queries = F.normalize(queries, p=2, dim=1)\n",
    "        energy_term = torch.einsum(\"bnhe, bnhq -> behq\", queries, keys)\n",
    "        print(energy_term.shape)\n",
    "        divider = sqrt(self.embed_size)\n",
    "        mh_out = torch.softmax(energy_term, -1)\n",
    "        if self.attention_store is not None:\n",
    "            self.attention_store.append(mh_out.detach().cpu())\n",
    "        out = torch.einsum('behq, bnhe -> bnhq ', mh_out / divider, values)\n",
    "        print(out.shape)\n",
    "        out = einops.rearrange(out, \"b n h e -> b n (h e)\")\n",
    "        return self.final_projection(out)\n",
    "\n",
    "\n",
    "MultiHeadXCITAttention(768, 8)(x).shape"
   ],
   "outputs": [
    {
     "output_type": "stream",
     "name": "stdout",
     "text": [
      "torch.Size([4, 96, 8, 96])\n",
      "torch.Size([4, 197, 8, 96])\n"
     ]
    },
    {
     "output_type": "execute_result",
     "data": {
      "text/plain": [
       "torch.Size([4, 197, 768])"
      ]
     },
     "metadata": {},
     "execution_count": 2
    }
   ],
   "metadata": {}
  },
  {
   "cell_type": "code",
   "execution_count": 5,
   "source": [
    "from einops.layers.torch import Reduce, Rearrange\n",
    "\n",
    "class PatchEmbeddingPixelwise(torch.nn.Sequential):\n",
    "    \n",
    "    def __init__(self, stride, embedding_size, channels=3) -> None:\n",
    "        reduce = Reduce(\"b c (w i) (h k) -> b (c i k) w h\", \"mean\", i=stride, k=stride)\n",
    "        rearange = Rearrange(\"b e h w -> b (h w) e\")\n",
    "        linear = torch.nn.Linear(stride * stride * channels, embedding_size)\n",
    "        super().__init__(*[\n",
    "            reduce,\n",
    "            rearange,\n",
    "            linear\n",
    "        ])\n",
    "        \n",
    "imgs = torch.rand(4, 3, 512, 512)\n",
    "\n",
    "PatchEmbeddingPixelwise(4, 128)(imgs).shape"
   ],
   "outputs": [
    {
     "output_type": "execute_result",
     "data": {
      "text/plain": [
       "torch.Size([4, 16384, 128])"
      ]
     },
     "metadata": {},
     "execution_count": 5
    }
   ],
   "metadata": {}
  },
  {
   "cell_type": "code",
   "execution_count": 6,
   "source": [
    "x = einops.reduce(imgs, \"b c (w i) (h k) -> b (c i k) w h\", \"mean\", i=4, k=4)\n",
    "\n",
    "print(x[0, :, 0, 0])\n",
    "imgs[0, :, :4, :4]"
   ],
   "outputs": [
    {
     "output_type": "stream",
     "name": "stdout",
     "text": [
      "tensor([0.5891, 0.4272, 0.8274, 0.4417, 0.0085, 0.5833, 0.0616, 0.0424, 0.4950,\n",
      "        0.2065, 0.5875, 0.8506, 0.8575, 0.5328, 0.0374, 0.1130, 0.5295, 0.4659,\n",
      "        0.5719, 0.1116, 0.0251, 0.0025, 0.9558, 0.0884, 0.9224, 0.9056, 0.3549,\n",
      "        0.4874, 0.3215, 0.8398, 0.1643, 0.6919, 0.9742, 0.6123, 0.4258, 0.9993,\n",
      "        0.1846, 0.2410, 0.5798, 0.6895, 0.7292, 0.6438, 0.4387, 0.5016, 0.5945,\n",
      "        0.5443, 0.7958, 0.2468])\n"
     ]
    },
    {
     "output_type": "execute_result",
     "data": {
      "text/plain": [
       "tensor([[[0.5891, 0.4272, 0.8274, 0.4417],\n",
       "         [0.0085, 0.5833, 0.0616, 0.0424],\n",
       "         [0.4950, 0.2065, 0.5875, 0.8506],\n",
       "         [0.8575, 0.5328, 0.0374, 0.1130]],\n",
       "\n",
       "        [[0.5295, 0.4659, 0.5719, 0.1116],\n",
       "         [0.0251, 0.0025, 0.9558, 0.0884],\n",
       "         [0.9224, 0.9056, 0.3549, 0.4874],\n",
       "         [0.3215, 0.8398, 0.1643, 0.6919]],\n",
       "\n",
       "        [[0.9742, 0.6123, 0.4258, 0.9993],\n",
       "         [0.1846, 0.2410, 0.5798, 0.6895],\n",
       "         [0.7292, 0.6438, 0.4387, 0.5016],\n",
       "         [0.5945, 0.5443, 0.7958, 0.2468]]])"
      ]
     },
     "metadata": {},
     "execution_count": 6
    }
   ],
   "metadata": {}
  },
  {
   "cell_type": "code",
   "execution_count": 18,
   "source": [
    "x = torch.rand(4, 8, 197, 96)\n",
    "x.transpose(-2, -1).shape"
   ],
   "outputs": [
    {
     "output_type": "execute_result",
     "data": {
      "text/plain": [
       "torch.Size([4, 8, 96, 197])"
      ]
     },
     "metadata": {},
     "execution_count": 18
    }
   ],
   "metadata": {}
  },
  {
   "cell_type": "code",
   "execution_count": 12,
   "source": [
    "class Conv3x3(nn.Sequential):\n",
    "    \n",
    "    def __init__(self, in_channels, out_channels, stride=1):\n",
    "        super().__init__(*[\n",
    "            nn.Conv2d(in_channels, out_channels, kernel_size=3, stride=stride, padding=1),\n",
    "            nn.BatchNorm2d(out_channels)\n",
    "        ])\n",
    "\n",
    "\n",
    "class ConvPatchEmbedding(nn.Module):\n",
    "    \n",
    "    def __init__(self, stride=16, embed_dim=768):\n",
    "        super().__init__()\n",
    "        num_conv_layers = int(torch.log2(torch.tensor(stride)))\n",
    "        self.patch_embedding = self._get_patch_embedding(num_conv_layers, stride, embed_dim=embed_dim)\n",
    "        print(self)\n",
    "        \n",
    "    def _get_patch_embedding(self, num_conv_layers, stride, embed_dim):\n",
    "        embedding = [Conv3x3(in_channels=3, out_channels=embed_dim // (stride // 2), stride=2), nn.GELU()]\n",
    "        for idx in range(num_conv_layers - 1, 1, -1):\n",
    "            embedding += [Conv3x3(in_channels=embed_dim // (2 ** idx), out_channels=embed_dim // (2 ** (idx - 1)), stride=2),  nn.GELU()]\n",
    "        embedding += [Conv3x3(in_channels=embed_dim // 2, out_channels=embed_dim, stride=2)]\n",
    "        return nn.Sequential(*embedding)\n",
    "        \n",
    "    def forward(self, image):\n",
    "        embed = self.patch_embedding(image)\n",
    "        _, _, w, h = embed.shape\n",
    "        return einops.rearrange(embed, \"b c w h -> b (w h) c\"), (w, h)\n",
    "\n",
    "ConvPatchEmbedding()(torch.rand(2, 3, 128, 128))[0].shape"
   ],
   "outputs": [
    {
     "output_type": "stream",
     "name": "stdout",
     "text": [
      "ConvPatchEmbedding(\n",
      "  (patch_embedding): Sequential(\n",
      "    (0): Conv3x3(\n",
      "      (0): Conv2d(3, 96, kernel_size=(3, 3), stride=(2, 2), padding=(1, 1))\n",
      "      (1): BatchNorm2d(96, eps=1e-05, momentum=0.1, affine=True, track_running_stats=True)\n",
      "    )\n",
      "    (1): GELU()\n",
      "    (2): Conv3x3(\n",
      "      (0): Conv2d(96, 192, kernel_size=(3, 3), stride=(2, 2), padding=(1, 1))\n",
      "      (1): BatchNorm2d(192, eps=1e-05, momentum=0.1, affine=True, track_running_stats=True)\n",
      "    )\n",
      "    (3): GELU()\n",
      "    (4): Conv3x3(\n",
      "      (0): Conv2d(192, 384, kernel_size=(3, 3), stride=(2, 2), padding=(1, 1))\n",
      "      (1): BatchNorm2d(384, eps=1e-05, momentum=0.1, affine=True, track_running_stats=True)\n",
      "    )\n",
      "    (5): GELU()\n",
      "    (6): Conv3x3(\n",
      "      (0): Conv2d(384, 768, kernel_size=(3, 3), stride=(2, 2), padding=(1, 1))\n",
      "      (1): BatchNorm2d(768, eps=1e-05, momentum=0.1, affine=True, track_running_stats=True)\n",
      "    )\n",
      "  )\n",
      ")\n"
     ]
    },
    {
     "output_type": "execute_result",
     "data": {
      "text/plain": [
       "torch.Size([2, 64, 768])"
      ]
     },
     "metadata": {},
     "execution_count": 12
    }
   ],
   "metadata": {}
  },
  {
   "cell_type": "code",
   "execution_count": 12,
   "source": [
    "class LPI(nn.Module):\n",
    "    \"\"\"\n",
    "    Local Patch Interaction module that allows explicit communication between tokens in 3x3 windows\n",
    "    to augment the implicit communcation performed by the block diagonal scatter attention.\n",
    "    Implemented using 2 layers of separable 3x3 convolutions with GeLU and BatchNorm2d\n",
    "    \"\"\"\n",
    "\n",
    "    def __init__(self, in_features, hidden_features=None, out_features=None, act_layer=nn.GELU,\n",
    "                 drop=0., kernel_size=3):\n",
    "        super().__init__()\n",
    "        out_features = out_features or in_features\n",
    "\n",
    "        padding = kernel_size // 2\n",
    "\n",
    "        self.conv1 = torch.nn.Conv2d(in_features, out_features, kernel_size=kernel_size,\n",
    "                                     padding=padding, groups=out_features)\n",
    "        self.act = act_layer()\n",
    "        self.bn = nn.BatchNorm2d(in_features)\n",
    "        self.conv2 = torch.nn.Conv2d(in_features, out_features, kernel_size=kernel_size,\n",
    "                                     padding=padding, groups=out_features)\n",
    "\n",
    "    def forward(self, x, H, W):\n",
    "        B, N, C = x.shape\n",
    "        x = x.permute(0, 2, 1).reshape(B, C, H, W)\n",
    "        x = self.conv1(x)\n",
    "        x = self.act(x)\n",
    "        x = self.bn(x)\n",
    "        x = self.conv2(x)\n",
    "        x = x.reshape(B, C, N).permute(0, 2, 1)\n",
    "\n",
    "        return x\n",
    "    \n",
    "\n",
    "LPI(768).cuda()(torch.rand(2, 196, 768).cuda(), 14, 14)"
   ],
   "outputs": [
    {
     "output_type": "execute_result",
     "data": {
      "text/plain": [
       "tensor([[[-3.9201e-02,  7.3577e-02, -3.3857e-01,  ...,  7.1404e-02,\n",
       "          -5.9091e-01, -3.7378e-01],\n",
       "         [-5.1637e-02, -1.1477e-01,  1.2482e-01,  ..., -7.0015e-01,\n",
       "          -6.8895e-01,  2.8070e-01],\n",
       "         [-8.1479e-02, -3.8260e-02,  8.0394e-01,  ..., -6.1427e-01,\n",
       "           2.7029e-01, -3.6985e-01],\n",
       "         ...,\n",
       "         [-4.1867e-01,  1.3993e+00,  6.3790e-02,  ..., -6.3944e-02,\n",
       "          -2.9100e-01, -1.2993e-01],\n",
       "         [-4.8697e-01, -9.8769e-01, -2.9202e-01,  ...,  3.1321e-01,\n",
       "          -5.1861e-01,  6.3304e-01],\n",
       "         [-2.0910e-01,  3.9316e-01,  2.8611e-01,  ..., -2.3512e-01,\n",
       "          -3.9437e-02,  4.2751e-01]],\n",
       "\n",
       "        [[-6.8820e-01,  8.9558e-01,  4.4689e-01,  ..., -4.7872e-01,\n",
       "          -3.6535e-01, -1.9128e-01],\n",
       "         [-2.6235e-01, -5.6604e-01,  9.8445e-02,  ..., -1.9249e-01,\n",
       "          -7.7222e-01,  3.0269e-01],\n",
       "         [ 6.8488e-01,  4.2476e-01,  4.2119e-01,  ..., -5.8732e-01,\n",
       "          -1.3842e-01,  5.9836e-01],\n",
       "         ...,\n",
       "         [-9.3575e-02,  5.9875e-01, -1.1532e-01,  ..., -3.4054e-04,\n",
       "          -3.4852e-01,  8.4352e-02],\n",
       "         [ 1.5135e-01,  3.6346e-01, -6.2739e-02,  ...,  9.9127e-01,\n",
       "           1.7463e-01, -2.4462e-01],\n",
       "         [ 5.7661e-02, -1.7571e-01,  3.7106e-02,  ..., -4.3894e-01,\n",
       "          -3.3767e-01, -5.6712e-02]]], device='cuda:0',\n",
       "       grad_fn=<PermuteBackward>)"
      ]
     },
     "metadata": {},
     "execution_count": 12
    }
   ],
   "metadata": {}
  },
  {
   "cell_type": "code",
   "execution_count": 14,
   "source": [
    "class MLP(torch.nn.Sequential):\n",
    "    def __init__(self, embed_size=768, expansion=4):\n",
    "        super().__init__(*[\n",
    "            nn.Linear(embed_size, embed_size * expansion),\n",
    "            nn.GELU(),\n",
    "            nn.Linear(embed_size * expansion, embed_size)\n",
    "        ])\n",
    "        \n",
    "\n",
    "MLP(768)(torch.rand(2, 197, 768))"
   ],
   "outputs": [
    {
     "output_type": "execute_result",
     "data": {
      "text/plain": [
       "tensor([[[-0.0119,  0.0649,  0.0795,  ...,  0.0373, -0.0676,  0.0408],\n",
       "         [ 0.0905, -0.0137,  0.1502,  ..., -0.0574, -0.0048, -0.0458],\n",
       "         [ 0.1419, -0.0640,  0.1212,  ..., -0.0503,  0.0452,  0.0219],\n",
       "         ...,\n",
       "         [-0.0061,  0.0251,  0.0915,  ..., -0.0029, -0.0027, -0.0728],\n",
       "         [ 0.0985,  0.0010,  0.0708,  ...,  0.0574, -0.0171, -0.1115],\n",
       "         [-0.0151, -0.0368,  0.1491,  ..., -0.0172, -0.0019, -0.0692]],\n",
       "\n",
       "        [[ 0.0244,  0.0497,  0.1023,  ..., -0.0365, -0.0204, -0.1134],\n",
       "         [-0.0109,  0.0144,  0.1729,  ...,  0.0245, -0.0728, -0.0241],\n",
       "         [-0.0014,  0.0451,  0.0597,  ..., -0.0188, -0.0286, -0.0613],\n",
       "         ...,\n",
       "         [ 0.0993, -0.0834,  0.1267,  ...,  0.1155, -0.0147, -0.0741],\n",
       "         [-0.0208, -0.0269,  0.0578,  ...,  0.0185,  0.0106,  0.0194],\n",
       "         [ 0.0376,  0.1106,  0.0475,  ...,  0.0610, -0.0200, -0.0344]]],\n",
       "       grad_fn=<AddBackward0>)"
      ]
     },
     "metadata": {},
     "execution_count": 14
    }
   ],
   "metadata": {}
  },
  {
   "cell_type": "code",
   "execution_count": 13,
   "source": [
    "class ClassAttention(nn.Module):\n",
    "\n",
    "    def __init__(self, embed_size, num_heads):\n",
    "        super().__init__()\n",
    "        self.embed_size = embed_size\n",
    "        self.num_heads = num_heads\n",
    "        self.divider = sqrt(self.embed_size // self.num_heads)\n",
    "        self.projection = nn.Linear(embed_size, embed_size * 3)\n",
    "        self.output_projection = nn.Linear(embed_size, embed_size)\n",
    "\n",
    "    def forward(self, x):\n",
    "        qkv = einops.rearrange(self.projection(x), \"b n (a c) -> a b n c\", a=3)\n",
    "        q, k, v = qkv[0, ...], qkv[1, ...], qkv[2, ...]\n",
    "        keys = einops.rearrange(k, \"b n (h e) -> b n h e\", h=self.num_heads)\n",
    "        queries = einops.rearrange(q, \"b n (h e) -> b n h e\", h=self.num_heads)\n",
    "        values = einops.rearrange(v, \"b n (h e) -> b h n e\", h=self.num_heads)\n",
    "        queries = queries[:, 0:1, :, :]\n",
    "        attention = (queries * keys).sum(-1) / self.divider\n",
    "        attention = einops.rearrange(attention.softmax(1), \"b h n -> b n h\")\n",
    "        attention = einops.rearrange(attention.unsqueeze(2) @ values, \"b h t e -> b t (h e)\")\n",
    "        token = self.output_projection(attention)\n",
    "        return torch.cat([token, x[:, 1:, :]], dim=1)\n",
    "    \n",
    "\n",
    "ClassAttention(768, 8)(torch.rand(2, 197, 768))"
   ],
   "outputs": [
    {
     "output_type": "execute_result",
     "data": {
      "text/plain": [
       "tensor([[[ 0.2034,  0.0966, -0.2158,  ...,  0.2347,  0.0722, -0.0249],\n",
       "         [ 0.7054,  0.0563,  0.4442,  ...,  0.3818,  0.0695,  0.5631],\n",
       "         [ 0.8876,  0.6540,  0.5337,  ...,  0.1968,  0.0086,  0.4894],\n",
       "         ...,\n",
       "         [ 0.9510,  0.3464,  0.7857,  ...,  0.2829,  0.1989,  0.7497],\n",
       "         [ 0.7678,  0.3197,  0.3608,  ...,  0.0874,  0.1468,  0.6992],\n",
       "         [ 0.3224,  0.8372,  0.1662,  ...,  0.1762,  0.3569,  0.1786]],\n",
       "\n",
       "        [[ 0.2092,  0.0929, -0.2311,  ...,  0.2383,  0.0860, -0.0233],\n",
       "         [ 0.3607,  0.3273,  0.5632,  ...,  0.3444,  0.9594,  0.7298],\n",
       "         [ 0.0330,  0.7662,  0.6852,  ...,  0.9630,  0.2035,  0.9838],\n",
       "         ...,\n",
       "         [ 0.7344,  0.7691,  0.9999,  ...,  0.6485,  0.0166,  0.0254],\n",
       "         [ 0.0321,  0.9927,  0.1681,  ...,  0.4650,  0.9918,  0.3013],\n",
       "         [ 0.1197,  0.0235,  0.6346,  ...,  0.0768,  0.5337,  0.8871]]],\n",
       "       grad_fn=<CatBackward>)"
      ]
     },
     "metadata": {},
     "execution_count": 13
    }
   ],
   "metadata": {}
  },
  {
   "cell_type": "code",
   "execution_count": 15,
   "source": [
    "class ClassAttentionLayer(nn.Module):\n",
    "\n",
    "    def __init__(self, embed_size, num_heads, use_token_norm):\n",
    "        super(ClassAttentionLayer, self).__init__()\n",
    "        self.attention = ClassAttention(embed_size=embed_size, num_heads=num_heads)\n",
    "        self.use_token_norm = use_token_norm\n",
    "        self.mlp = MLP(embed_size=embed_size)\n",
    "        self.norm_attention = nn.LayerNorm(embed_size)\n",
    "        self.norm_mlp = nn.LayerNorm(embed_size)\n",
    "\n",
    "    def forward(self, x):\n",
    "        x = x + self.attention(self.norm_attention(x))\n",
    "\n",
    "        if self.use_token_norm:\n",
    "            x = self.norm_mlp(x)\n",
    "\n",
    "        else:\n",
    "            x[:, 0:1, :] = self.norm_mlp(x[:, 0:1, :])\n",
    "\n",
    "        cls_token = x[:, 0:1, :]\n",
    "        cls_token = cls_token + self.mlp(cls_token)\n",
    "        out_x = torch.cat([cls_token, x[:, 1:, :]], dim=1)\n",
    "        return x + out_x\n",
    "    \n",
    "\n",
    "ClassAttentionLayer(768, 8, True)(torch.rand(2, 197, 768))"
   ],
   "outputs": [
    {
     "output_type": "execute_result",
     "data": {
      "text/plain": [
       "tensor([[[ 3.7040,  2.9413, -3.4869,  ...,  2.8102, -2.9792, -2.0274],\n",
       "         [ 1.9408, -2.4944, -3.2384,  ...,  2.7298, -1.0727, -3.4231],\n",
       "         [ 0.8058, -2.1132,  3.2575,  ...,  2.2010, -0.9828,  2.5714],\n",
       "         ...,\n",
       "         [-0.8156, -0.9888, -1.0129,  ...,  1.6347,  2.2150,  3.0470],\n",
       "         [ 0.8213, -0.8219, -1.4050,  ..., -2.3250, -1.0813, -0.6954],\n",
       "         [-2.2497,  2.6547, -2.1102,  ...,  2.0017,  3.2088, -1.3781]],\n",
       "\n",
       "        [[-2.9991,  1.3460, -2.2611,  ...,  0.2030, -0.2257,  1.5942],\n",
       "         [-2.1537, -0.5351,  0.5013,  ..., -1.5655, -0.6691,  2.5270],\n",
       "         [ 0.2471, -3.4727, -1.9128,  ...,  2.9075, -1.7280,  2.2539],\n",
       "         ...,\n",
       "         [-2.7479,  2.4425, -0.2620,  ...,  2.4858,  0.2755, -1.7910],\n",
       "         [-1.9909, -0.0783,  2.4433,  ...,  3.3677, -1.7459,  2.4705],\n",
       "         [ 2.1301,  2.6681,  3.4611,  ..., -1.9404, -3.2601, -0.8471]]],\n",
       "       grad_fn=<AddBackward0>)"
      ]
     },
     "metadata": {},
     "execution_count": 15
    }
   ],
   "metadata": {}
  },
  {
   "cell_type": "code",
   "execution_count": 4,
   "source": [
    "x = torch.tensor([[1, 2, 3, 4], [5, 6, 7, 8], [9, 10, 11, 12], [13, 14, 15, 16]])\n",
    "# x = torch.nn.functional.pad(x, (0, 1, 0, 1))\n",
    "torch.roll(x, dims=(1, 0), shifts=(-2, -2))\n"
   ],
   "outputs": [
    {
     "output_type": "execute_result",
     "data": {
      "text/plain": [
       "tensor([[11, 12,  9, 10],\n",
       "        [15, 16, 13, 14],\n",
       "        [ 3,  4,  1,  2],\n",
       "        [ 7,  8,  5,  6]])"
      ]
     },
     "metadata": {},
     "execution_count": 4
    }
   ],
   "metadata": {}
  },
  {
   "cell_type": "code",
   "execution_count": 26,
   "source": [
    "class MLP(torch.nn.Sequential):\n",
    "    def __init__(self, embed_size=768, expansion=4):\n",
    "        super().__init__(*[\n",
    "            nn.Linear(embed_size, embed_size * expansion),\n",
    "            nn.GELU(),\n",
    "            nn.Linear(embed_size * expansion, embed_size)\n",
    "        ])\n",
    "\n",
    "\n",
    "class ResidualAdd(torch.nn.Module):\n",
    "    def __init__(self, block):\n",
    "        super().__init__()\n",
    "        self.block = block\n",
    "\n",
    "    def forward(self, x):\n",
    "        return x + self.block(x)\n",
    "    \n",
    "\n",
    "class SwinMSA(nn.Module):\n",
    "    \n",
    "    def __init__(self, embed_dim, num_heads, attention_mask=None,\n",
    "                 attention_dropout=0.0, projection_dropout=0.0):\n",
    "        super(SwinMSA, self).__init__()\n",
    "        self.embed_dim = embed_dim\n",
    "        self.num_heads = num_heads\n",
    "        self.qkv = nn.Linear(embed_dim, 3 * embed_dim)\n",
    "        self.projection = nn.Linear(embed_dim, embed_dim)\n",
    "        self.scale = (self.embed_dim // self.num_heads) ** (-0.5)\n",
    "\n",
    "        self.attention_dropout = nn.Dropout(attention_dropout)\n",
    "        self.projection_dropout = nn.Dropout(projection_dropout)\n",
    "\n",
    "        self.register_buffer(\"attention_mask\", attention_mask)\n",
    "\n",
    "    def forward(self, x):\n",
    "        \"\"\"\n",
    "        Multihead self-attention for swin module.\n",
    "        Args:\n",
    "            x: tensor of shape: b n c\n",
    "\n",
    "        Returns:\n",
    "\n",
    "        \"\"\"\n",
    "        print(x.shape)\n",
    "        qkv = self.qkv(x)\n",
    "        qkv = einops.rearrange(qkv, \"b n (h d c) -> d b n h c\", h=self.num_heads, d=3)\n",
    "        queries, keys, values = qkv[0], qkv[1], qkv[2]\n",
    "        energy_term = torch.einsum(\"bqhe, bkhe -> bqhk\", queries, keys)\n",
    "        energy_term *= self.scale\n",
    "\n",
    "        if self.attention_mask is not None:\n",
    "            energy_term = energy_term + self.attention_mask\n",
    "\n",
    "        energy_term = energy_term.softmax(dim=-1)\n",
    "        out = torch.einsum('bihv, bvhd -> bihd ', energy_term, values)\n",
    "        print(out.shape)\n",
    "        out = einops.rearrange(out, \"b n h e -> b n (h e)\")\n",
    "        out = self.projection(out)\n",
    "        return self.projection_dropout(out)\n",
    "\n",
    "\n",
    "class SwinBlock(nn.Module):\n",
    "    \n",
    "    def __init__(self, shift_size, embed_dim, num_heads, image_resolution,\n",
    "                 shifted_block=False, attention_dropout=0.0, projection_dropout=0.0):\n",
    "        super(SwinBlock, self).__init__()\n",
    "        self.resolution = image_resolution\n",
    "        self.embed_dim = embed_dim\n",
    "        self.num_heads = num_heads\n",
    "        self.shifted = shifted_block\n",
    "        self.shift_size = shift_size\n",
    "        self.attention_norm = nn.LayerNorm(embed_dim)\n",
    "        attention_mask = self._get_attention_mask()\n",
    "\n",
    "        self.attention = SwinMSA(\n",
    "            embed_dim,\n",
    "            num_heads,\n",
    "            attention_mask=attention_mask,\n",
    "            attention_dropout=attention_dropout,\n",
    "            projection_dropout=projection_dropout\n",
    "        )\n",
    "        self.mlp = ResidualAdd(nn.Sequential(*[nn.LayerNorm(embed_dim), MLP(embed_size=embed_dim)]))\n",
    "        \n",
    "    def _get_attention_mask(self):\n",
    "        if self.shifted:\n",
    "            # TODO: fill\n",
    "            return torch.ones(1)\n",
    "        else:\n",
    "            return None\n",
    "\n",
    "    def cyclic_shift(self, tensor):\n",
    "        return torch.roll(tensor, (-self.shift_size, -self.shift_size), dims=(1, 2))\n",
    "\n",
    "    def reverse_cyclic_shift(self, tensor):\n",
    "        return torch.roll(tensor, (self.shift_size, self.shift_size), dims=(1, 2))\n",
    "\n",
    "    def window_reverse(self, tensor, h , w):\n",
    "        image = einops.rearrange(tensor, \"(b h w) (shifty shiftx) c -> b shifty h shiftx w c\",\n",
    "                                 shiftx=self.shift_size, shifty=self.shift_size, h=h//self.shift_size, w=w//self.shift_size)\n",
    "        return einops.rearrange(image, \"b sy h sx w c -> b (sy h) (sx w) c\")\n",
    "\n",
    "    def window_partition(self, tensor):\n",
    "        windows = einops.rearrange(tensor, \"b (sy h) (sx w) c -> b sy h sx w c\", sx=self.shift_size, sy=self.shift_size)\n",
    "        return einops.rearrange(windows, \"b sy h sx w c -> (b h w) (sy sx) c\")\n",
    "\n",
    "    def forward(self, x):\n",
    "        \"\"\"\n",
    "        Single swin block execution\n",
    "        Args:\n",
    "            img: (B (H W) C) tensor.\n",
    "\n",
    "        Returns:\n",
    "\n",
    "        \"\"\"\n",
    "        b, n, c = x.shape\n",
    "        assert n == self.resolution[0] * self.resolution[1]\n",
    "        img = einops.rearrange(x, \"b (h w) c ->  b h w c\", h=self.resolution[0], w=self.resolution[1])\n",
    "        if self.shifted:\n",
    "            img = self.cyclic_shift(img)\n",
    "        print(img.shape)\n",
    "        norm1 = self.attention_norm(img)\n",
    "        print(norm1.shape)\n",
    "        partitions = self.window_partition(norm1)\n",
    "        print(partitions.shape)\n",
    "        attention = self.attention(partitions)\n",
    "        reverse_shifted = self.window_reverse(attention, *self.resolution)\n",
    "        if self.shifted:\n",
    "            reverse_shifted = self.reverse_cyclic_shift(reverse_shifted)\n",
    "        msa_out = einops.rearrange(reverse_shifted, \"b h w c -> b (h w) c\")\n",
    "        msa_out = x + msa_out\n",
    "        print(msa_out.shape)\n",
    "        return msa_out + self.mlp(msa_out)\n",
    "    \n",
    "block = SwinBlock(7, 256, 8, (224, 224), False)(torch.rand(2, 224 * 224, 256))"
   ],
   "outputs": [
    {
     "output_type": "stream",
     "name": "stdout",
     "text": [
      "torch.Size([2, 224, 224, 256])\n",
      "torch.Size([2, 224, 224, 256])\n",
      "torch.Size([2048, 49, 256])\n",
      "torch.Size([2048, 49, 256])\n"
     ]
    }
   ],
   "metadata": {}
  },
  {
   "cell_type": "code",
   "execution_count": 7,
   "source": [
    "def window_partition(x, window_size):\n",
    "    \"\"\"\n",
    "    Args:\n",
    "        x: (B, H, W, C)\n",
    "        window_size (int): window size\n",
    "\n",
    "    Returns:\n",
    "        windows: (num_windows*B, window_size, window_size, C)\n",
    "    \"\"\"\n",
    "    B, H, W, C = x.shape\n",
    "    x = x.view(B, H // window_size, window_size, W // window_size, window_size, C)\n",
    "    windows = x.permute(0, 1, 3, 2, 4, 5).contiguous().view(-1, window_size, window_size, C)\n",
    "    return windows\n",
    "\n",
    "\n",
    "\n",
    "H, W = 15, 15\n",
    "window_size = 3\n",
    "shift_size = 1\n",
    "img_mask = torch.zeros((1, H, W, 1))  # 1 H W 1\n",
    "h_slices = (slice(0, -window_size),\n",
    "            slice(-window_size, -shift_size),\n",
    "            slice(-shift_size, None))\n",
    "w_slices = (slice(0, -window_size),\n",
    "            slice(-window_size, -shift_size),\n",
    "            slice(-shift_size, None))\n",
    "cnt = 0\n",
    "for h in h_slices:\n",
    "    for w in w_slices:\n",
    "        print(h)\n",
    "        print(w)\n",
    "        img_mask[:, h, w, :] = cnt\n",
    "        cnt += 1\n",
    "\n",
    "torch.set_printoptions(threshold=10_000)\n",
    "\n",
    "mask_windows = window_partition(img_mask, window_size)  # nW, window_size, window_size, 1\n",
    "mask_windows = mask_windows.view(-1, window_size * window_size)\n",
    "attn_mask2 = mask_windows.unsqueeze(1) - mask_windows.unsqueeze(2)\n",
    "x = mask_windows[24, :]\n",
    "print(img_mask.squeeze())\n",
    "print(mask_windows.squeeze())\n",
    "print(attn_mask2.shape)\n",
    "attn_mask = attn_mask2.masked_fill(attn_mask2 != 0, float(-100.0)).masked_fill(attn_mask2 == 0, float(0.0))"
   ],
   "outputs": [
    {
     "output_type": "stream",
     "name": "stdout",
     "text": [
      "slice(0, -3, None)\n",
      "slice(0, -3, None)\n",
      "slice(0, -3, None)\n",
      "slice(-3, -1, None)\n",
      "slice(0, -3, None)\n",
      "slice(-1, None, None)\n",
      "slice(-3, -1, None)\n",
      "slice(0, -3, None)\n",
      "slice(-3, -1, None)\n",
      "slice(-3, -1, None)\n",
      "slice(-3, -1, None)\n",
      "slice(-1, None, None)\n",
      "slice(-1, None, None)\n",
      "slice(0, -3, None)\n",
      "slice(-1, None, None)\n",
      "slice(-3, -1, None)\n",
      "slice(-1, None, None)\n",
      "slice(-1, None, None)\n",
      "tensor([[0., 0., 0., 0., 0., 0., 0., 0., 0., 0., 0., 0., 1., 1., 2.],\n",
      "        [0., 0., 0., 0., 0., 0., 0., 0., 0., 0., 0., 0., 1., 1., 2.],\n",
      "        [0., 0., 0., 0., 0., 0., 0., 0., 0., 0., 0., 0., 1., 1., 2.],\n",
      "        [0., 0., 0., 0., 0., 0., 0., 0., 0., 0., 0., 0., 1., 1., 2.],\n",
      "        [0., 0., 0., 0., 0., 0., 0., 0., 0., 0., 0., 0., 1., 1., 2.],\n",
      "        [0., 0., 0., 0., 0., 0., 0., 0., 0., 0., 0., 0., 1., 1., 2.],\n",
      "        [0., 0., 0., 0., 0., 0., 0., 0., 0., 0., 0., 0., 1., 1., 2.],\n",
      "        [0., 0., 0., 0., 0., 0., 0., 0., 0., 0., 0., 0., 1., 1., 2.],\n",
      "        [0., 0., 0., 0., 0., 0., 0., 0., 0., 0., 0., 0., 1., 1., 2.],\n",
      "        [0., 0., 0., 0., 0., 0., 0., 0., 0., 0., 0., 0., 1., 1., 2.],\n",
      "        [0., 0., 0., 0., 0., 0., 0., 0., 0., 0., 0., 0., 1., 1., 2.],\n",
      "        [0., 0., 0., 0., 0., 0., 0., 0., 0., 0., 0., 0., 1., 1., 2.],\n",
      "        [3., 3., 3., 3., 3., 3., 3., 3., 3., 3., 3., 3., 4., 4., 5.],\n",
      "        [3., 3., 3., 3., 3., 3., 3., 3., 3., 3., 3., 3., 4., 4., 5.],\n",
      "        [6., 6., 6., 6., 6., 6., 6., 6., 6., 6., 6., 6., 7., 7., 8.]])\n",
      "tensor([[0., 0., 0., 0., 0., 0., 0., 0., 0.],\n",
      "        [0., 0., 0., 0., 0., 0., 0., 0., 0.],\n",
      "        [0., 0., 0., 0., 0., 0., 0., 0., 0.],\n",
      "        [0., 0., 0., 0., 0., 0., 0., 0., 0.],\n",
      "        [1., 1., 2., 1., 1., 2., 1., 1., 2.],\n",
      "        [0., 0., 0., 0., 0., 0., 0., 0., 0.],\n",
      "        [0., 0., 0., 0., 0., 0., 0., 0., 0.],\n",
      "        [0., 0., 0., 0., 0., 0., 0., 0., 0.],\n",
      "        [0., 0., 0., 0., 0., 0., 0., 0., 0.],\n",
      "        [1., 1., 2., 1., 1., 2., 1., 1., 2.],\n",
      "        [0., 0., 0., 0., 0., 0., 0., 0., 0.],\n",
      "        [0., 0., 0., 0., 0., 0., 0., 0., 0.],\n",
      "        [0., 0., 0., 0., 0., 0., 0., 0., 0.],\n",
      "        [0., 0., 0., 0., 0., 0., 0., 0., 0.],\n",
      "        [1., 1., 2., 1., 1., 2., 1., 1., 2.],\n",
      "        [0., 0., 0., 0., 0., 0., 0., 0., 0.],\n",
      "        [0., 0., 0., 0., 0., 0., 0., 0., 0.],\n",
      "        [0., 0., 0., 0., 0., 0., 0., 0., 0.],\n",
      "        [0., 0., 0., 0., 0., 0., 0., 0., 0.],\n",
      "        [1., 1., 2., 1., 1., 2., 1., 1., 2.],\n",
      "        [3., 3., 3., 3., 3., 3., 6., 6., 6.],\n",
      "        [3., 3., 3., 3., 3., 3., 6., 6., 6.],\n",
      "        [3., 3., 3., 3., 3., 3., 6., 6., 6.],\n",
      "        [3., 3., 3., 3., 3., 3., 6., 6., 6.],\n",
      "        [4., 4., 5., 4., 4., 5., 7., 7., 8.]])\n",
      "torch.Size([25, 9, 9])\n"
     ]
    }
   ],
   "metadata": {}
  },
  {
   "cell_type": "code",
   "execution_count": 2,
   "source": [
    "num_heads = 8\n",
    "window_size = (7, 7)\n",
    "relative_position_bias_table = torch.rand(\n",
    "            (2 * window_size[0] - 1) * (2 * window_size[1] - 1), num_heads)  # 2*Wh-1 * 2*Ww-1, nH\n",
    "\n",
    "# get pair-wise relative position index for each token inside the window\n",
    "coords_h = torch.arange(window_size[0])\n",
    "coords_w = torch.arange(window_size[1])\n",
    "coords = torch.stack(torch.meshgrid([coords_h, coords_w]))  # 2, Wh, Ww\n",
    "coords_flatten = torch.flatten(coords, 1)  # 2, Wh*Ww\n",
    "relative_coords_new = coords_flatten[:, :, None] - coords_flatten[:, None, :]  # 2, Wh*Ww, Wh*Ww\n",
    "relative_coords = relative_coords_new.permute(1, 2, 0).contiguous()  # Wh*Ww, Wh*Ww, 2\n",
    "relative_coords[:, :, 0] += window_size[0] - 1  # shift to start from 0\n",
    "relative_coords[:, :, 1] += window_size[1] - 1\n",
    "relative_coords[:, :, 0] *= 2 * window_size[1] - 1\n",
    "relative_position_index = relative_coords.sum(-1)  # Wh*Ww, Wh*Ww\n",
    "relative_position_bias = relative_position_bias_table[relative_position_index.view(-1)].view(\n",
    "            window_size[0] * window_size[1], window_size[0] * window_size[1], -1)  # Wh*Ww,Wh*Ww,nH\n",
    "relative_position_bias = relative_position_bias.permute(2, 0, 1).contiguous()  # nH, Wh*Ww, Wh*Ww"
   ],
   "outputs": [],
   "metadata": {}
  },
  {
   "cell_type": "code",
   "execution_count": 3,
   "source": [
    "relative_position_bias_table[x, :].shape"
   ],
   "outputs": [
    {
     "output_type": "error",
     "ename": "NameError",
     "evalue": "name 'x' is not defined",
     "traceback": [
      "\u001b[0;31m---------------------------------------------------------------------------\u001b[0m",
      "\u001b[0;31mNameError\u001b[0m                                 Traceback (most recent call last)",
      "\u001b[0;32m/tmp/ipykernel_3416/3078296611.py\u001b[0m in \u001b[0;36m<module>\u001b[0;34m\u001b[0m\n\u001b[0;32m----> 1\u001b[0;31m \u001b[0mrelative_position_bias_table\u001b[0m\u001b[0;34m[\u001b[0m\u001b[0mx\u001b[0m\u001b[0;34m,\u001b[0m \u001b[0;34m:\u001b[0m\u001b[0;34m]\u001b[0m\u001b[0;34m.\u001b[0m\u001b[0mshape\u001b[0m\u001b[0;34m\u001b[0m\u001b[0;34m\u001b[0m\u001b[0m\n\u001b[0m",
      "\u001b[0;31mNameError\u001b[0m: name 'x' is not defined"
     ]
    }
   ],
   "metadata": {}
  }
 ],
 "metadata": {
  "interpreter": {
   "hash": "80647bc31eee8f98a9857c024cb070ab8a251e4f0684aedce7063b7234f8932c"
  },
  "kernelspec": {
   "name": "python3",
   "display_name": "Python 3.9.6 64-bit ('rockstar': conda)"
  },
  "language_info": {
   "name": "python",
   "version": "3.9.6",
   "mimetype": "text/x-python",
   "codemirror_mode": {
    "name": "ipython",
    "version": 3
   },
   "pygments_lexer": "ipython3",
   "nbconvert_exporter": "python",
   "file_extension": ".py"
  },
  "orig_nbformat": 4
 },
 "nbformat": 4,
 "nbformat_minor": 2
}